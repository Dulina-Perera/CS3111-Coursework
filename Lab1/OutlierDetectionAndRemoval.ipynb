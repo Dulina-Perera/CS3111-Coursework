{
 "cells": [
  {
   "cell_type": "code",
   "execution_count": null,
   "metadata": {},
   "outputs": [],
   "source": [
    "import warnings\n",
    "\n",
    "# Suppress all the Warnings.\n",
    "warnings.filterwarnings('ignore', category=Warning)\n",
    "\n",
    "# Load in the necessary libraries.\n",
    "import matplotlib.pyplot as plt\n",
    "import pandas as pd\n",
    "import seaborn as sns\n",
    "\n",
    "from IPython.display import display"
   ]
  },
  {
   "cell_type": "code",
   "execution_count": null,
   "metadata": {},
   "outputs": [],
   "source": [
    "df = pd.read_csv('Resources/Wine Quality Datasets/winequality-red.csv')"
   ]
  },
  {
   "cell_type": "code",
   "execution_count": null,
   "metadata": {},
   "outputs": [],
   "source": [
    "display(df.describe())"
   ]
  },
  {
   "cell_type": "markdown",
   "metadata": {},
   "source": [
    "## Outlier Detection\n"
   ]
  },
  {
   "cell_type": "code",
   "execution_count": null,
   "metadata": {},
   "outputs": [],
   "source": [
    "display(sns.displot(df['total_sulfur_dioxide'], kind='kde'))"
   ]
  },
  {
   "cell_type": "code",
   "execution_count": null,
   "metadata": {},
   "outputs": [],
   "source": [
    "display(sns.boxplot(x=df['total_sulfur_dioxide']))"
   ]
  },
  {
   "cell_type": "markdown",
   "metadata": {},
   "source": [
    "### Z-Score Method\n"
   ]
  },
  {
   "cell_type": "code",
   "execution_count": null,
   "metadata": {},
   "outputs": [],
   "source": [
    "# Calculate the upper and lower bounds.\n",
    "upper_bound = df['total_sulfur_dioxide'].mean() + 3 * df['total_sulfur_dioxide'].std()\n",
    "lower_bound = df['total_sulfur_dioxide'].mean() - 3 * df['total_sulfur_dioxide'].std()\n",
    "\n",
    "display(upper_bound, lower_bound)"
   ]
  },
  {
   "cell_type": "code",
   "execution_count": null,
   "metadata": {},
   "outputs": [],
   "source": [
    "# Find the outliers.\n",
    "df.loc[(df['total_sulfur_dioxide'] > upper_bound) | (df['total_sulfur_dioxide'] < lower_bound)]"
   ]
  },
  {
   "cell_type": "code",
   "execution_count": null,
   "metadata": {},
   "outputs": [],
   "source": [
    "# Trim the outliers.\n",
    "new_df = df.loc[(df['total_sulfur_dioxide'] < upper_bound) & (df['total_sulfur_dioxide'] > lower_bound)]\n",
    "\n",
    "display(len(df))\n",
    "display(len(new_df))\n",
    "display(new_df.describe())"
   ]
  },
  {
   "cell_type": "code",
   "execution_count": null,
   "metadata": {},
   "outputs": [],
   "source": [
    "sns.boxplot(x=new_df['total_sulfur_dioxide'])"
   ]
  },
  {
   "cell_type": "code",
   "execution_count": null,
   "metadata": {},
   "outputs": [],
   "source": [
    "# Cap the outliers.\n",
    "new_df = df.copy()\n",
    "\n",
    "new_df.loc[new_df['total_sulfur_dioxide'] > upper_bound, 'total_sulfur_dioxide'] = upper_bound\n",
    "new_df.loc[new_df['total_sulfur_dioxide'] < lower_bound, 'total_sulfur_dioxide'] = lower_bound\n",
    "\n",
    "display(len(new_df))"
   ]
  },
  {
   "cell_type": "code",
   "execution_count": null,
   "metadata": {},
   "outputs": [],
   "source": [
    "sns.boxplot(x=new_df['total_sulfur_dioxide'])"
   ]
  },
  {
   "cell_type": "markdown",
   "metadata": {},
   "source": [
    "### IQR Method\n"
   ]
  },
  {
   "cell_type": "code",
   "execution_count": null,
   "metadata": {},
   "outputs": [],
   "source": [
    "q1 = df['total_sulfur_dioxide'].quantile(0.25)\n",
    "q3 = df['total_sulfur_dioxide'].quantile(0.75)\n",
    "\n",
    "display(q1, q3, q3 - q1)"
   ]
  },
  {
   "cell_type": "code",
   "execution_count": null,
   "metadata": {},
   "outputs": [],
   "source": [
    "upper_bound = q3 + 1.5 * (q3 - q1)\n",
    "lower_bound = q1 - 1.5 * (q3 - q1)\n",
    "\n",
    "display(upper_bound, lower_bound)"
   ]
  },
  {
   "cell_type": "code",
   "execution_count": null,
   "metadata": {},
   "outputs": [],
   "source": [
    "sns.boxplot(x=df['total_sulfur_dioxide'])"
   ]
  },
  {
   "cell_type": "code",
   "execution_count": null,
   "metadata": {},
   "outputs": [],
   "source": [
    "# Trim the outliers.\n",
    "new_df = df.loc[(df['total_sulfur_dioxide'] < upper_bound) & (df['total_sulfur_dioxide'] > lower_bound)]\n",
    "\n",
    "display(len(df))\n",
    "display(len(new_df))\n",
    "display(new_df.describe())"
   ]
  },
  {
   "cell_type": "code",
   "execution_count": null,
   "metadata": {},
   "outputs": [],
   "source": [
    "sns.boxplot(x=new_df['total_sulfur_dioxide'])"
   ]
  },
  {
   "cell_type": "code",
   "execution_count": null,
   "metadata": {},
   "outputs": [],
   "source": [
    "# Cap the outliers.\n",
    "new_df = df.copy()\n",
    "\n",
    "new_df.loc[new_df['total_sulfur_dioxide'] > upper_bound, 'total_sulfur_dioxide'] = upper_bound\n",
    "new_df.loc[new_df['total_sulfur_dioxide'] < lower_bound, 'total_sulfur_dioxide'] = lower_bound\n",
    "\n",
    "display(len(new_df))"
   ]
  },
  {
   "cell_type": "code",
   "execution_count": null,
   "metadata": {},
   "outputs": [],
   "source": [
    "sns.boxplot(x=new_df['total_sulfur_dioxide'])"
   ]
  },
  {
   "cell_type": "markdown",
   "metadata": {},
   "source": [
    "### Percentile Method\n"
   ]
  },
  {
   "cell_type": "code",
   "execution_count": null,
   "metadata": {},
   "outputs": [],
   "source": []
  }
 ],
 "metadata": {
  "kernelspec": {
   "display_name": "machine-learning",
   "language": "python",
   "name": "python3"
  },
  "language_info": {
   "codemirror_mode": {
    "name": "ipython",
    "version": 3
   },
   "file_extension": ".py",
   "mimetype": "text/x-python",
   "name": "python",
   "nbconvert_exporter": "python",
   "pygments_lexer": "ipython3",
   "version": "3.10.11"
  }
 },
 "nbformat": 4,
 "nbformat_minor": 2
}
