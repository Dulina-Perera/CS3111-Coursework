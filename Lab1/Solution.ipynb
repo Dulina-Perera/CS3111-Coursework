{
 "cells": [
  {
   "cell_type": "code",
   "execution_count": null,
   "metadata": {},
   "outputs": [],
   "source": [
    "import warnings\n",
    "\n",
    "# Suppress the Deprecation Warnings.\n",
    "warnings.filterwarnings('ignore', category=DeprecationWarning)\n",
    "\n",
    "# Load in the necessary libraries.\n",
    "import numpy as np\n",
    "import pandas as pd\n",
    "\n",
    "from sklearn.preprocessing import LabelEncoder, MinMaxScaler\n",
    "\n",
    "# Set the display option to show all rows without truncation.\n",
    "pd.set_option('display.max_rows', None)"
   ]
  },
  {
   "cell_type": "code",
   "execution_count": null,
   "metadata": {},
   "outputs": [],
   "source": [
    "# Read in the data.\n",
    "df = pd.read_csv('Resources/train.csv')\n",
    "# valid_df = pd.read_csv('Resources/valid.csv')"
   ]
  },
  {
   "cell_type": "code",
   "execution_count": null,
   "metadata": {},
   "outputs": [],
   "source": [
    "df.shape\n",
    "row_count = len(df)"
   ]
  },
  {
   "cell_type": "code",
   "execution_count": null,
   "metadata": {},
   "outputs": [],
   "source": [
    "# Set seed for reproducibility.\n",
    "np.random.seed(42)"
   ]
  },
  {
   "cell_type": "code",
   "execution_count": null,
   "metadata": {},
   "outputs": [],
   "source": [
    "# Observe the first five rows of the dataset.\n",
    "df.head(5)"
   ]
  },
  {
   "cell_type": "code",
   "execution_count": null,
   "metadata": {},
   "outputs": [],
   "source": [
    "# Observe the last five rows of the dataset.\n",
    "df.tail(5)"
   ]
  },
  {
   "cell_type": "code",
   "execution_count": null,
   "metadata": {
    "scrolled": false
   },
   "outputs": [],
   "source": [
    "# Get the number of missing data points per column.\n",
    "missing_values_count = df.isnull().sum()\n",
    "missing_values_count"
   ]
  },
  {
   "cell_type": "code",
   "execution_count": null,
   "metadata": {
    "scrolled": false
   },
   "outputs": [],
   "source": [
    "# How many total missing values do we have?\n",
    "total_cells = np.product(df.shape)\n",
    "total_missing = missing_values_count.sum()\n",
    "\n",
    "# Percent of data that is missing.\n",
    "percent_missing = (total_missing / total_cells) * 100\n",
    "# total_missing\n",
    "percent_missing"
   ]
  },
  {
   "cell_type": "code",
   "execution_count": null,
   "metadata": {},
   "outputs": [],
   "source": [
    "# Drop the columns where more than 50% of elements are missing.\n",
    "df.dropna(axis='columns', inplace=True, thresh=row_count/2)\n",
    "df.shape"
   ]
  },
  {
   "cell_type": "code",
   "execution_count": null,
   "metadata": {},
   "outputs": [],
   "source": [
    "# Get the number of missing data points per column.\n",
    "missing_values_count = df.isnull().sum()\n",
    "missing_values_count"
   ]
  },
  {
   "cell_type": "code",
   "execution_count": null,
   "metadata": {},
   "outputs": [],
   "source": [
    "# Examine the columns with missing values.\n",
    "df.columns[df.isnull().any().tolist()]"
   ]
  },
  {
   "cell_type": "code",
   "execution_count": null,
   "metadata": {},
   "outputs": [],
   "source": [
    "# Replace missing values.\n",
    "# df.fillna(value={'emp_title': 'unemployed'}, inplace=True)\n",
    "# df.fillna(value={'emp_length': '< 1 year'}, inplace=True)\n",
    "# df.fillna(value={'title': 'Not provided'}, inplace=True)\n",
    "df.dropna(axis='rows', inplace=True) # , subset=['tot_coll_amt']\n",
    "\n",
    "# df.loc[:, ['tot_coll_amt', 'tot_cur_bal', 'total_rev_hi_lim', 'mo_sin_old_rev_tl_op', 'loan_status']].head(1000)\n",
    "# df[df['revol_util'].isnull()][['revol_util', 'loan_status']]"
   ]
  },
  {
   "cell_type": "code",
   "execution_count": null,
   "metadata": {},
   "outputs": [],
   "source": [
    "pd.set_option('display.max_columns', None)\n",
    "df.describe(include='all')"
   ]
  },
  {
   "cell_type": "code",
   "execution_count": null,
   "metadata": {},
   "outputs": [],
   "source": [
    "# le = LabelEncoder()\n",
    "# df['term'] = le.fit_transform(df['term'])\n",
    "# Create a copy of the DataFrame to avoid modifying the original DataFrame\n",
    "df_scaled = df.copy()\n",
    "\n",
    "# Encode categorical columns using LabelEncoder\n",
    "label_encoders = {}\n",
    "for column in df.select_dtypes(include=['object']).columns:\n",
    "    label_encoders[column] = LabelEncoder()\n",
    "    df_scaled[column] = label_encoders[column].fit_transform(df[column])\n",
    "\n",
    "# Scale numerical columns using MinMaxScaler\n",
    "scaler = MinMaxScaler()\n",
    "numerical_columns = df.select_dtypes(include=['int', 'float']).columns\n",
    "df_scaled[numerical_columns] = scaler.fit_transform(df[numerical_columns])\n",
    "\n",
    "# Display the scaled DataFrame\n",
    "print(df_scaled.head())"
   ]
  },
  {
   "cell_type": "code",
   "execution_count": null,
   "metadata": {},
   "outputs": [],
   "source": [
    "df['term'].head()"
   ]
  },
  {
   "cell_type": "code",
   "execution_count": null,
   "metadata": {},
   "outputs": [],
   "source": [
    "# Perform feature selection (e.g., using SelectKBest)\n",
    "from sklearn.feature_selection import SelectKBest, f_classif\n",
    "\n",
    "selector = SelectKBest(score_func=f_classif, k=10)\n",
    "X_selected = selector.fit_transform(df_scaled.drop('loan_status', axis=1), df_scaled['loan_status'])\n",
    "\n",
    "# Perform feature engineering (e.g., polynomial features)\n",
    "from sklearn.preprocessing import PolynomialFeatures\n",
    "\n",
    "poly_features = PolynomialFeatures(degree=2)\n",
    "X_poly = poly_features.fit_transform(X_selected)\n",
    "X_selected\n",
    "\n",
    "# Now you can proceed with model training using X_poly and df_scaled['target_column']"
   ]
  },
  {
   "cell_type": "code",
   "execution_count": null,
   "metadata": {},
   "outputs": [],
   "source": [
    "# Get the indices of selected features\n",
    "selected_indices = selector.get_support()\n",
    "\n",
    "# Get the names of selected features\n",
    "selected_features = df_scaled.drop('loan_status', axis=1).columns[selected_indices]\n",
    "\n",
    "# Print the names of selected features\n",
    "print(\"Selected Features:\")\n",
    "print(selected_features)"
   ]
  },
  {
   "cell_type": "code",
   "execution_count": null,
   "metadata": {},
   "outputs": [
    {
     "name": "stdout",
     "output_type": "stream",
     "text": [
      "Accuracy: 0.9993938914802224\n",
      "Classification Report:\n",
      "              precision    recall  f1-score   support\n",
      "\n",
      "         0.0       1.00      1.00      1.00     11483\n",
      "         1.0       1.00      1.00      1.00     26464\n",
      "\n",
      "    accuracy                           1.00     37947\n",
      "   macro avg       1.00      1.00      1.00     37947\n",
      "weighted avg       1.00      1.00      1.00     37947\n",
      "\n"
     ]
    }
   ],
   "source": [
    "import xgboost as xgb\n",
    "from sklearn.model_selection import train_test_split\n",
    "from sklearn.metrics import accuracy_score, classification_report\n",
    "\n",
    "# Assume df_scaled contains the processed DataFrame with features and target_column\n",
    "# Split the data into features (X) and target (y)\n",
    "X = df_scaled.drop('loan_status', axis=1)\n",
    "y = df_scaled['loan_status']\n",
    "\n",
    "# Split the data into training and testing sets\n",
    "X_train, X_test, y_train, y_test = train_test_split(X, y, test_size=0.1, random_state=42)\n",
    "\n",
    "# Initialize XGBoost classifier\n",
    "xgb_classifier = xgb.XGBClassifier()\n",
    "\n",
    "# Train the classifier\n",
    "xgb_classifier.fit(X_train, y_train)\n",
    "\n",
    "# Predict on the testing set\n",
    "y_pred = xgb_classifier.predict(X_test)\n",
    "\n",
    "# Evaluate the classifier\n",
    "accuracy = accuracy_score(y_test, y_pred)\n",
    "print(\"Accuracy:\", accuracy)\n",
    "\n",
    "# Print classification report\n",
    "print(\"Classification Report:\")\n",
    "print(classification_report(y_test, y_pred))\n",
    "\n",
    "# Optionally, you can tune hyperparameters using techniques like grid search or random search\n",
    "# and perform cross-validation to fine-tune the model"
   ]
  },
  {
   "cell_type": "code",
   "execution_count": null,
   "metadata": {},
   "outputs": [],
   "source": []
  }
 ],
 "metadata": {
  "kernelspec": {
   "display_name": "Python 3 (ipykernel)",
   "language": "python",
   "name": "python3"
  },
  "language_info": {
   "codemirror_mode": {
    "name": "ipython",
    "version": 3
   },
   "file_extension": ".py",
   "mimetype": "text/x-python",
   "name": "python",
   "nbconvert_exporter": "python",
   "pygments_lexer": "ipython3",
   "version": "3.10.11"
  }
 },
 "nbformat": 4,
 "nbformat_minor": 2
}
